{
  "nbformat": 4,
  "nbformat_minor": 0,
  "metadata": {
    "colab": {
      "name": "ccClub week8.ipynb",
      "provenance": [],
      "include_colab_link": true
    },
    "kernelspec": {
      "name": "python3",
      "display_name": "Python 3"
    },
    "language_info": {
      "name": "python"
    }
  },
  "cells": [
    {
      "cell_type": "markdown",
      "metadata": {
        "id": "view-in-github",
        "colab_type": "text"
      },
      "source": [
        "<a href=\"https://colab.research.google.com/github/Wesley1110/Crawler/blob/main/ccClub_week8.ipynb\" target=\"_parent\"><img src=\"https://colab.research.google.com/assets/colab-badge.svg\" alt=\"Open In Colab\"/></a>"
      ]
    },
    {
      "cell_type": "markdown",
      "metadata": {
        "id": "kdoOoM1YDkaw"
      },
      "source": [
        "# 爬蟲大補帖 1\n"
      ]
    },
    {
      "cell_type": "markdown",
      "metadata": {
        "id": "nXLrQovCx0CB"
      },
      "source": [
        "## 重點事項宣布\n",
        "\n",
        "公佈了期末專案的評分規則以及 Demo Party 的詳細事項\n",
        "可以上 [notion](https://ccclub.notion.site/ccClub-Fall-2021-922840ed5e234a10b45602c316125c5a) 觀看\n",
        "\n",
        "這份大補帖可以在課程網頁或是學員須知中找到！\n",
        "\n",
        "## 給聽不懂這堂課的同學\n",
        "\n",
        "1. 網路資料搜集概念 & 相關套件安裝\n",
        "https://youtu.be/X9iH08BxXXA    \n",
        "2. 網路資料搜集實戰（第一個爬蟲程式）\n",
        "https://youtu.be/omyZccg4FzI    \n",
        "3. 網路資料搜集實戰（PTT 熱門列表）\n",
        "https://youtu.be/Lh1TyNDa7sU\n",
        "4. 網路資料搜集實戰（YAHOO電影）\n",
        "https://youtu.be/ylDObM4-T2E\n"
      ]
    },
    {
      "cell_type": "markdown",
      "metadata": {
        "id": "JfeOZorKeFau"
      },
      "source": [
        "## 安裝套件\n",
        "```\n",
        "!pip3 install requests\n",
        "!pip3 install beautifulsoup4\n",
        "```"
      ]
    },
    {
      "cell_type": "code",
      "metadata": {
        "colab": {
          "base_uri": "https://localhost:8080/"
        },
        "id": "PP4L7e8qDX7b",
        "outputId": "cac462ea-1891-4944-8d54-d11d8ac96fb9"
      },
      "source": [
        "!pip3 install requests\n",
        "!pip3 install beautifulsoup4"
      ],
      "execution_count": null,
      "outputs": [
        {
          "output_type": "stream",
          "name": "stdout",
          "text": [
            "Requirement already satisfied: requests in /usr/local/lib/python3.7/dist-packages (2.23.0)\n",
            "Requirement already satisfied: urllib3!=1.25.0,!=1.25.1,<1.26,>=1.21.1 in /usr/local/lib/python3.7/dist-packages (from requests) (1.24.3)\n",
            "Requirement already satisfied: idna<3,>=2.5 in /usr/local/lib/python3.7/dist-packages (from requests) (2.10)\n",
            "Requirement already satisfied: chardet<4,>=3.0.2 in /usr/local/lib/python3.7/dist-packages (from requests) (3.0.4)\n",
            "Requirement already satisfied: certifi>=2017.4.17 in /usr/local/lib/python3.7/dist-packages (from requests) (2021.10.8)\n",
            "Requirement already satisfied: beautifulsoup4 in /usr/local/lib/python3.7/dist-packages (4.6.3)\n"
          ]
        }
      ]
    },
    {
      "cell_type": "markdown",
      "metadata": {
        "id": "UWr0xR0MR7Bs"
      },
      "source": [
        "## 爬蟲基礎\n",
        "\n",
        "### 送出請求\n",
        "```\n",
        "import requests\n",
        "re = requests.get(網址)\n",
        "print(re.text)\n",
        "```\n",
        "\n",
        "### 解析網頁\n",
        "```\n",
        "from bs4 import BeautifulSoup\n",
        "soup = BeautifulSoup(re.text, \"html.parser\")\n",
        "print(soup)\n",
        "```\n",
        "\n",
        "### find 和 findAll\n",
        "* `find` 是抓取第一次出現 `tag` 的資料\n",
        "* `findAll` 或 `find_all` 可以得到該 `tag` 每一次出現的資料\n",
        "* 不知道 `tag` 是什麼可以回去複習影片\n",
        "\n",
        "```\n",
        "soup.tag\n",
        "soup.find(\"tag\")\n",
        "soup.findAll(\"tag\")\n",
        "soup.find_all(\"tag\")\n",
        "```\n",
        "\n",
        "### 課後練習\n",
        "2021 ccClub Fall 課程網上課大綱 https://www.ccclub.io/course/2021Fall\n",
        "\n",
        "爬蟲目標：請運用爬蟲在 ccClub 課程網上，找出有所有作業截止時，該週的週次及上課內容\n",
        "\n",
        "（原先：請運用爬蟲找出有公布作業的上課日期）"
      ]
    },
    {
      "cell_type": "code",
      "metadata": {
        "colab": {
          "base_uri": "https://localhost:8080/"
        },
        "id": "ZdfTt2eYQvRZ",
        "outputId": "4206c5d2-2678-41b8-d624-41a0b1fd66ec"
      },
      "source": [
        "import requests\n",
        "from bs4 import BeautifulSoup\n",
        "\n",
        "re = requests.get(\"https://www.ccclub.io/course/2021Fall\") \n",
        "soup_ccClub =  BeautifulSoup(re.text, \"html.parser\")\n",
        "\n",
        "ccClub = []\n",
        "tbody = soup_ccClub.find(\"tbody\")\n",
        "trs = tbody.find_all(\"tr\")\n",
        "for tr in trs:\n",
        "    tds = tr.find_all(\"td\")\n",
        "    week = tds[0].text    #週次\n",
        "    content = tds[2].text #上課內容\n",
        "    if \"due\" in content:\n",
        "      print(week, content)"
      ],
      "execution_count": null,
      "outputs": [
        {
          "output_type": "stream",
          "name": "stdout",
          "text": [
            "04 More about loops, Function (HW1 due, HW2 announce)\n",
            "06 Dictionary (HW2 due, HW3 announce)\n",
            "07 File IO, Module (HW3 due, HW4 announce)\n"
          ]
        }
      ]
    },
    {
      "cell_type": "markdown",
      "metadata": {
        "id": "ovp3MMjAZu3o"
      },
      "source": [
        "## 屬性\n",
        "用 `find`/`findAll` 找到特定 `tag` 及 `attribute` 的資料\n",
        "\n",
        "```\n",
        "soup.find(\"tag\", {\"attribute\": \"value\"})\n",
        "```\n",
        "\n",
        "### 課後練習\n",
        "PTT 熱門看板列表: https://www.ptt.cc/bbs/hotboards.html\n",
        "\n",
        "爬取在線人數介於 500~1000 人的看板，列出看板名稱和標題\n",
        "\n",
        "（原先：爬取在線人數 1000 人以上的看板，列出看板名稱和人數）"
      ]
    },
    {
      "cell_type": "code",
      "metadata": {
        "colab": {
          "base_uri": "https://localhost:8080/"
        },
        "id": "Kor4s8u5Q7XW",
        "outputId": "8a96ec4d-863c-4d83-8d32-89700052787c"
      },
      "source": [
        "import requests\n",
        "from bs4 import BeautifulSoup\n",
        "\n",
        "re = requests.get(\"https://www.ptt.cc/bbs/hotboards.html\") \n",
        "soup_PTT =  BeautifulSoup(re.text, \"html.parser\")\n",
        "\n",
        "all_boards = soup_PTT.findAll(\"div\", {\"class\": \"b-ent\"})\n",
        "for board in all_boards:\n",
        "    name = board.find(\"div\", {\"class\": \"board-name\"}).text\n",
        "    user_count = board.find(\"div\", {\"class\": \"board-nuser\"}).text\n",
        "    title = board.find(\"div\", {\"class\": \"board-title\"}).text\n",
        "\n",
        "    if int(user_count) >= 500 and int(user_count) < 1000:\n",
        "        print(name, title)"
      ],
      "execution_count": null,
      "outputs": [
        {
          "output_type": "stream",
          "name": "stdout",
          "text": [
            "MobileComm ◎[通訊] 各地5G實測數據徵求中\n",
            "home-sale ◎[房屋] 禁無關看板新聞/租賃廣告\n",
            "DIABLO ◎[暗黑] 交易文一天一篇\n",
            "car ◎[汽車] 版規5修正，請注意\n",
            "HatePolitics ◎[政黑]幹政治勿幹版友\n",
            "PC_Shopping ◎[電蝦] 顯卡排隊請至置底集中討論\n",
            "sex ◎[西斯] 降低人與人之間的連結 ☺\n",
            "Tech_Job ◎[科技] Work-Life Balance\n",
            "KoreaStar ◎[韓星]\n"
          ]
        }
      ]
    },
    {
      "cell_type": "markdown",
      "metadata": {
        "id": "K3PU6rGoavsW"
      },
      "source": [
        "## 跨頁爬蟲\n",
        "* 超連結屬性: `href` (Hypertext Reference)\n",
        "* 跨頁爬蟲步驟\n",
        "\n",
        "  1. 對**主頁**進行爬蟲\n",
        "  2. 從主頁原始碼找到並進入分頁的**超連結 `a`** 位置\n",
        "  3. 由 **`href` 屬性**取得分頁網址\n",
        "  4. 對**分頁**進行網路爬蟲\n",
        "\n",
        "### 課後練習\n",
        "Yahoo 電影: https://movies.yahoo.com.tw \n",
        "\n",
        "爬蟲目標：抓取最新電影列表中每個電影的期待度及滿意度\n",
        "\n",
        "（原先：抓取最新電影列表中每個電影的導演/主要演員名單）"
      ]
    },
    {
      "cell_type": "code",
      "metadata": {
        "colab": {
          "base_uri": "https://localhost:8080/"
        },
        "id": "8Mup-LyJRIJr",
        "outputId": "b34aa02d-53f2-4f7c-cf39-983019c847ec"
      },
      "source": [
        "import requests\n",
        "from bs4 import BeautifulSoup\n",
        "\n",
        "url = \"https://movies.yahoo.com.tw\"\n",
        "re = requests.get(url)\n",
        "soup_yahoo = BeautifulSoup(re.text, \"html.parser\")\n",
        "for movie in soup_yahoo.findAll(\"div\", {\"class\": \"movielist_info\"}):\n",
        "    print(movie.a.text)\n",
        "    url_movie = movie.a[\"href\"]\n",
        "    re_movie = requests.get(url_movie)\n",
        "    soup_movie = BeautifulSoup(re_movie.text, \"html.parser\")\n",
        "    expect = soup_movie.find(\"div\", {\"class\", \"circlenum\"}).find(\"div\", {\"class\": \"num\"}).text\n",
        "    score = soup_movie.find(\"div\", {\"class\": \"score_num\"}).text\n",
        "    if score == \"0.0\":\n",
        "      score = \"尚無評分\"\n",
        "    print(\"期待度\", expect, \"滿意度\", score)"
      ],
      "execution_count": null,
      "outputs": [
        {
          "output_type": "stream",
          "name": "stdout",
          "text": [
            "錢鬥遊戲\n",
            "期待度 83% 滿意度 4.1\n",
            "迷離夜蘇活\n",
            "期待度 89% 滿意度 4.5\n",
            "梅艷芳\n",
            "期待度 93% 滿意度 4.4\n",
            "粉紅雲\n",
            "期待度 62% 滿意度 尚無評分\n",
            "詭扯\n",
            "期待度 96% 滿意度 4.3\n",
            "刀劍神域 –Progressive- 無星夜的詠嘆調\n",
            "期待度 92% 滿意度 4.4\n",
            "安雅與魔女\n",
            "期待度 94% 滿意度 4.0\n",
            "蒸氣男孩\n",
            "期待度 82% 滿意度 4.3\n",
            "鹿魔\n",
            "期待度 69% 滿意度 尚無評分\n",
            "控制\n",
            "期待度 63% 滿意度 尚無評分\n",
            "極道公主\n",
            "期待度 43% 滿意度 尚無評分\n",
            "達賴喇嘛：大腦故事\n",
            "期待度 25% 滿意度 尚無評分\n",
            "文林銀行\n",
            "期待度 50% 滿意度 尚無評分\n",
            "東京貴族女子\n",
            "期待度 50% 滿意度 尚無評分\n",
            "王者理查\n",
            "期待度 76% 滿意度 尚無評分\n",
            "青春弒戀\n",
            "期待度 90% 滿意度 尚無評分\n"
          ]
        }
      ]
    }
  ]
}